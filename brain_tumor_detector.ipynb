{
 "cells": [
  {
   "cell_type": "markdown",
   "metadata": {},
   "source": [
    "Importing the libraries"
   ]
  },
  {
   "cell_type": "code",
   "execution_count": 14,
   "metadata": {},
   "outputs": [],
   "source": [
    "import tensorflow as tf\n",
    "from keras.preprocessing.image import ImageDataGenerator"
   ]
  },
  {
   "cell_type": "code",
   "execution_count": 15,
   "metadata": {},
   "outputs": [
    {
     "data": {
      "text/plain": [
       "'2.8.0'"
      ]
     },
     "execution_count": 15,
     "metadata": {},
     "output_type": "execute_result"
    }
   ],
   "source": [
    "tf.__version__"
   ]
  },
  {
   "cell_type": "markdown",
   "metadata": {},
   "source": [
    "Part 1 - Data Preprocessing"
   ]
  },
  {
   "cell_type": "markdown",
   "metadata": {},
   "source": [
    "Preprocessing the Training set"
   ]
  },
  {
   "cell_type": "code",
   "execution_count": 16,
   "metadata": {},
   "outputs": [
    {
     "name": "stdout",
     "output_type": "stream",
     "text": [
      "Found 130 images belonging to 2 classes.\n"
     ]
    }
   ],
   "source": [
    "train_datagen = ImageDataGenerator(rescale=1./255,shear_range=0.2,zoom_range=0.2,horizontal_flip= True)\n",
    "training_set = train_datagen.flow_from_directory('dataset/training_data',target_size=(64,64),batch_size=10,class_mode='binary')\n",
    "# Performing data augmentation , \n",
    "# so that the model doesn't overfit. Basically each image is copied a several times, and the copies are rescaled,zoom etc\n",
    "# Variables\n",
    "#  - target_size = size we set of image to be feed to the model\n",
    "#  - batch_size = The batch size defines the number of samples that will be propagated through the network.\n",
    "#  - class_mode = binary or catgorical"
   ]
  },
  {
   "cell_type": "markdown",
   "metadata": {},
   "source": [
    "Preprocessing the Test set"
   ]
  },
  {
   "cell_type": "code",
   "execution_count": 17,
   "metadata": {},
   "outputs": [
    {
     "name": "stdout",
     "output_type": "stream",
     "text": [
      "Found 50 images belonging to 2 classes.\n"
     ]
    }
   ],
   "source": [
    "test_datagen = ImageDataGenerator(rescale=1./255)\n",
    "test_set = test_datagen.flow_from_directory('dataset/test_data',target_size=(64,64),batch_size=10,class_mode='binary')"
   ]
  },
  {
   "cell_type": "markdown",
   "metadata": {},
   "source": [
    "Part 2 - Building the CNN"
   ]
  },
  {
   "cell_type": "markdown",
   "metadata": {},
   "source": [
    "Initialising the CNN"
   ]
  },
  {
   "cell_type": "code",
   "execution_count": 18,
   "metadata": {},
   "outputs": [],
   "source": [
    "cnn = tf.keras.models.Sequential()"
   ]
  },
  {
   "cell_type": "markdown",
   "metadata": {},
   "source": [
    "Step 1 - Convolution"
   ]
  },
  {
   "cell_type": "code",
   "execution_count": 19,
   "metadata": {},
   "outputs": [],
   "source": [
    "cnn.add(tf.keras.layers.Conv2D(filters=32, kernel_size=3, activation='relu', input_shape=[64, 64, 3]))\n",
    "# filter = feature detectors\n",
    "# kernal_size = size pf the feature detector(3X3)\n",
    "# input_shape = 2: pixel dimension , [64,64]: size of the image."
   ]
  },
  {
   "cell_type": "markdown",
   "metadata": {},
   "source": [
    "Step 2 - Pooling"
   ]
  },
  {
   "cell_type": "code",
   "execution_count": 20,
   "metadata": {},
   "outputs": [],
   "source": [
    "cnn.add(tf.keras.layers.MaxPool2D(pool_size=2, strides=2))\n",
    "# pool_size = size of pool frame\n",
    "# strides = pixel shifts  the pool frame moves to the right"
   ]
  },
  {
   "cell_type": "markdown",
   "metadata": {},
   "source": [
    "Adding a second convolutional layer"
   ]
  },
  {
   "cell_type": "code",
   "execution_count": 21,
   "metadata": {},
   "outputs": [],
   "source": [
    "cnn.add(tf.keras.layers.Conv2D(filters=32, kernel_size=3, activation='relu'))\n",
    "cnn.add(tf.keras.layers.MaxPool2D(pool_size=2, strides=2))\n",
    "# No need for input_shape for 1+ convolutional layer"
   ]
  },
  {
   "cell_type": "markdown",
   "metadata": {},
   "source": [
    "Step 3 - Flattening"
   ]
  },
  {
   "cell_type": "code",
   "execution_count": 22,
   "metadata": {},
   "outputs": [],
   "source": [
    "cnn.add(tf.keras.layers.Flatten())"
   ]
  },
  {
   "cell_type": "markdown",
   "metadata": {},
   "source": [
    "Step 4 - Full Connection"
   ]
  },
  {
   "cell_type": "code",
   "execution_count": 23,
   "metadata": {},
   "outputs": [],
   "source": [
    "cnn.add(tf.keras.layers.Dense(units=128, activation='relu'))\n",
    "# units = hidden neurons "
   ]
  },
  {
   "cell_type": "markdown",
   "metadata": {},
   "source": [
    "Step 5 - Output Layer"
   ]
  },
  {
   "cell_type": "code",
   "execution_count": 24,
   "metadata": {},
   "outputs": [],
   "source": [
    "cnn.add(tf.keras.layers.Dense(units=1, activation='sigmoid'))"
   ]
  },
  {
   "cell_type": "markdown",
   "metadata": {},
   "source": [
    "Part 3 - Training the CNN"
   ]
  },
  {
   "cell_type": "markdown",
   "metadata": {},
   "source": [
    "Compiling the CNN"
   ]
  },
  {
   "cell_type": "code",
   "execution_count": 25,
   "metadata": {},
   "outputs": [],
   "source": [
    "cnn.compile(optimizer = 'adam', loss = 'binary_crossentropy', metrics = ['accuracy'])\n",
    "# optimizer = gradient descent, mini-batch gradient descent or stochastic gradient descent. adam = stochastic GD\n",
    "# loss = technique to calculate the error \n",
    "# metrics = A metric is a function that is used to judge the performance of your model"
   ]
  },
  {
   "cell_type": "markdown",
   "metadata": {},
   "source": [
    "Training the CNN on the Training set and evaluating it on the Test set"
   ]
  },
  {
   "cell_type": "code",
   "execution_count": 26,
   "metadata": {},
   "outputs": [
    {
     "name": "stdout",
     "output_type": "stream",
     "text": [
      "Epoch 1/18\n",
      "13/13 [==============================] - 2s 85ms/step - loss: 0.6649 - accuracy: 0.6308 - val_loss: 0.5279 - val_accuracy: 0.7800\n",
      "Epoch 2/18\n",
      "13/13 [==============================] - 1s 64ms/step - loss: 0.6453 - accuracy: 0.6154 - val_loss: 0.5071 - val_accuracy: 0.8600\n",
      "Epoch 3/18\n",
      "13/13 [==============================] - 1s 70ms/step - loss: 0.6123 - accuracy: 0.6769 - val_loss: 0.4619 - val_accuracy: 0.8200\n",
      "Epoch 4/18\n",
      "13/13 [==============================] - 1s 57ms/step - loss: 0.5717 - accuracy: 0.6615 - val_loss: 0.4256 - val_accuracy: 0.8600\n",
      "Epoch 5/18\n",
      "13/13 [==============================] - 1s 58ms/step - loss: 0.5636 - accuracy: 0.7000 - val_loss: 0.4420 - val_accuracy: 0.8400\n",
      "Epoch 6/18\n",
      "13/13 [==============================] - 1s 56ms/step - loss: 0.5369 - accuracy: 0.7231 - val_loss: 0.4165 - val_accuracy: 0.8400\n",
      "Epoch 7/18\n",
      "13/13 [==============================] - 1s 59ms/step - loss: 0.4969 - accuracy: 0.7846 - val_loss: 0.5184 - val_accuracy: 0.7200\n",
      "Epoch 8/18\n",
      "13/13 [==============================] - 1s 69ms/step - loss: 0.5362 - accuracy: 0.7385 - val_loss: 0.4422 - val_accuracy: 0.8600\n",
      "Epoch 9/18\n",
      "13/13 [==============================] - 1s 61ms/step - loss: 0.4636 - accuracy: 0.7846 - val_loss: 0.4352 - val_accuracy: 0.8200\n",
      "Epoch 10/18\n",
      "13/13 [==============================] - 1s 59ms/step - loss: 0.4384 - accuracy: 0.8231 - val_loss: 0.4301 - val_accuracy: 0.8400\n",
      "Epoch 11/18\n",
      "13/13 [==============================] - 1s 58ms/step - loss: 0.4470 - accuracy: 0.8308 - val_loss: 0.4073 - val_accuracy: 0.8400\n",
      "Epoch 12/18\n",
      "13/13 [==============================] - 1s 60ms/step - loss: 0.3653 - accuracy: 0.8538 - val_loss: 0.4389 - val_accuracy: 0.8400\n",
      "Epoch 13/18\n",
      "13/13 [==============================] - 1s 62ms/step - loss: 0.3559 - accuracy: 0.8385 - val_loss: 0.4403 - val_accuracy: 0.8600\n",
      "Epoch 14/18\n",
      "13/13 [==============================] - 1s 63ms/step - loss: 0.2941 - accuracy: 0.8846 - val_loss: 0.4448 - val_accuracy: 0.8600\n",
      "Epoch 15/18\n",
      "13/13 [==============================] - 1s 60ms/step - loss: 0.2967 - accuracy: 0.8692 - val_loss: 0.4286 - val_accuracy: 0.8200\n",
      "Epoch 16/18\n",
      "13/13 [==============================] - 1s 65ms/step - loss: 0.3430 - accuracy: 0.8615 - val_loss: 0.4129 - val_accuracy: 0.8600\n",
      "Epoch 17/18\n",
      "13/13 [==============================] - 1s 59ms/step - loss: 0.2850 - accuracy: 0.9077 - val_loss: 0.4642 - val_accuracy: 0.8000\n",
      "Epoch 18/18\n",
      "13/13 [==============================] - 1s 59ms/step - loss: 0.3193 - accuracy: 0.8615 - val_loss: 0.4669 - val_accuracy: 0.8400\n"
     ]
    },
    {
     "data": {
      "text/plain": [
       "<keras.callbacks.History at 0x7f961cea1a10>"
      ]
     },
     "execution_count": 26,
     "metadata": {},
     "output_type": "execute_result"
    }
   ],
   "source": [
    "cnn.fit(x = training_set, validation_data = test_set, epochs = 18)\n"
   ]
  },
  {
   "cell_type": "markdown",
   "metadata": {},
   "source": [
    "Part 4 - Making a single prediction"
   ]
  },
  {
   "cell_type": "code",
   "execution_count": 29,
   "metadata": {},
   "outputs": [],
   "source": [
    "# dataset/prediction_values/yes dataset/prediction_values/yes/Y116.JPG\n",
    "import numpy as np\n",
    "from keras.preprocessing import image\n",
    "test_image = image.load_img('dataset/prediction_values/no/No17.JPG', target_size = (64, 64))\n",
    "test_image = image.img_to_array(test_image)\n",
    "test_image = np.expand_dims(test_image, axis = 0)\n",
    "result = cnn.predict(test_image/255.0)\n",
    "training_set.class_indices\n",
    "if result[0][0] > 0.5:\n",
    "  prediction = 'yes'\n",
    "else:\n",
    "  prediction = 'no'"
   ]
  },
  {
   "cell_type": "code",
   "execution_count": 30,
   "metadata": {},
   "outputs": [
    {
     "name": "stdout",
     "output_type": "stream",
     "text": [
      "no\n"
     ]
    }
   ],
   "source": [
    "print(prediction)"
   ]
  },
  {
   "cell_type": "code",
   "execution_count": null,
   "metadata": {},
   "outputs": [],
   "source": []
  }
 ],
 "metadata": {
  "interpreter": {
   "hash": "ce214becca8225ca0caca848c3d2de934d9dffe4f8a6a87e1f234a01c583b38b"
  },
  "kernelspec": {
   "display_name": "Python 3",
   "language": "python",
   "name": "python3"
  },
  "language_info": {
   "codemirror_mode": {
    "name": "ipython",
    "version": 3
   },
   "file_extension": ".py",
   "mimetype": "text/x-python",
   "name": "python",
   "nbconvert_exporter": "python",
   "pygments_lexer": "ipython3",
   "version": "3.7.6"
  }
 },
 "nbformat": 4,
 "nbformat_minor": 4
}
