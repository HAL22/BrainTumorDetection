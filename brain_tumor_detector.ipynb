{
 "cells": [
  {
   "cell_type": "markdown",
   "metadata": {},
   "source": [
    "Importing the libraries"
   ]
  },
  {
   "cell_type": "code",
   "execution_count": 1,
   "metadata": {},
   "outputs": [],
   "source": [
    "import tensorflow as tf\n",
    "from keras.preprocessing.image import ImageDataGenerator"
   ]
  },
  {
   "cell_type": "code",
   "execution_count": 2,
   "metadata": {},
   "outputs": [
    {
     "data": {
      "text/plain": [
       "'2.8.0'"
      ]
     },
     "execution_count": 2,
     "metadata": {},
     "output_type": "execute_result"
    }
   ],
   "source": [
    "tf.__version__"
   ]
  },
  {
   "cell_type": "markdown",
   "metadata": {},
   "source": [
    "Part 1 - Data Preprocessing"
   ]
  },
  {
   "cell_type": "markdown",
   "metadata": {},
   "source": [
    "Preprocessing the Training set"
   ]
  },
  {
   "cell_type": "code",
   "execution_count": 39,
   "metadata": {},
   "outputs": [
    {
     "name": "stdout",
     "output_type": "stream",
     "text": [
      "Found 130 images belonging to 2 classes.\n"
     ]
    }
   ],
   "source": [
    "train_datagen = ImageDataGenerator(rescale=1./255,shear_range=0.2,zoom_range=0.2,horizontal_flip= True)\n",
    "training_set = train_datagen.flow_from_directory('dataset/training_data',target_size=(255,255),batch_size=10,class_mode='binary')\n",
    "# Performing data augmentation , \n",
    "# so that the model doesn't overfit. Basically each image is copied a several times, and the copies are rescaled,zoom etc\n",
    "# Variables\n",
    "#  - target_size = size we set of image to be feed to the model\n",
    "#  - batch_size = The batch size defines the number of samples that will be propagated through the network.\n",
    "#  - class_mode = binary or catgorical"
   ]
  },
  {
   "cell_type": "markdown",
   "metadata": {},
   "source": [
    "Preprocessing the Test set"
   ]
  },
  {
   "cell_type": "code",
   "execution_count": 40,
   "metadata": {},
   "outputs": [
    {
     "name": "stdout",
     "output_type": "stream",
     "text": [
      "Found 50 images belonging to 2 classes.\n"
     ]
    }
   ],
   "source": [
    "test_datagen = ImageDataGenerator(rescale=1./255)\n",
    "test_set = test_datagen.flow_from_directory('dataset/test_data',target_size=(255,255),batch_size=10,class_mode='binary')"
   ]
  },
  {
   "cell_type": "markdown",
   "metadata": {},
   "source": [
    "Part 2 - Building the CNN"
   ]
  },
  {
   "cell_type": "markdown",
   "metadata": {},
   "source": [
    "Initialising the CNN"
   ]
  },
  {
   "cell_type": "code",
   "execution_count": 41,
   "metadata": {},
   "outputs": [],
   "source": [
    "cnn = tf.keras.models.Sequential()"
   ]
  },
  {
   "cell_type": "markdown",
   "metadata": {},
   "source": [
    "Step 1 - Convolution"
   ]
  },
  {
   "cell_type": "code",
   "execution_count": 42,
   "metadata": {},
   "outputs": [],
   "source": [
    "cnn.add(tf.keras.layers.Conv2D(filters=32, kernel_size=3, activation='relu', input_shape=[255, 255, 2]))\n",
    "# filter = feature detectors\n",
    "# kernal_size = size pf the feature detector(3X3)\n",
    "# input_shape = 2: pixel dimension , [64,64]: size of the image."
   ]
  },
  {
   "cell_type": "markdown",
   "metadata": {},
   "source": [
    "Step 2 - Pooling"
   ]
  },
  {
   "cell_type": "code",
   "execution_count": 43,
   "metadata": {},
   "outputs": [],
   "source": [
    "cnn.add(tf.keras.layers.MaxPool2D(pool_size=2, strides=2))\n",
    "# pool_size = size of pool frame\n",
    "# strides = pixel shifts  the pool frame moves to the right"
   ]
  },
  {
   "cell_type": "markdown",
   "metadata": {},
   "source": [
    "Adding a second convolutional layer"
   ]
  },
  {
   "cell_type": "code",
   "execution_count": 44,
   "metadata": {},
   "outputs": [],
   "source": [
    "cnn.add(tf.keras.layers.Conv2D(filters=32, kernel_size=3, activation='relu'))\n",
    "cnn.add(tf.keras.layers.MaxPool2D(pool_size=2, strides=2))\n",
    "# No need for input_shape for 1+ convolutional layer"
   ]
  },
  {
   "cell_type": "markdown",
   "metadata": {},
   "source": [
    "Step 3 - Flattening"
   ]
  },
  {
   "cell_type": "code",
   "execution_count": 45,
   "metadata": {},
   "outputs": [],
   "source": [
    "cnn.add(tf.keras.layers.Flatten())"
   ]
  },
  {
   "cell_type": "markdown",
   "metadata": {},
   "source": [
    "Step 4 - Full Connection"
   ]
  },
  {
   "cell_type": "code",
   "execution_count": 46,
   "metadata": {},
   "outputs": [],
   "source": [
    "cnn.add(tf.keras.layers.Dense(units=2, activation='relu'))\n",
    "# units = hidden neurons "
   ]
  },
  {
   "cell_type": "markdown",
   "metadata": {},
   "source": [
    "Step 5 - Output Layer"
   ]
  },
  {
   "cell_type": "code",
   "execution_count": 47,
   "metadata": {},
   "outputs": [],
   "source": [
    "cnn.add(tf.keras.layers.Dense(units=1, activation='sigmoid'))"
   ]
  },
  {
   "cell_type": "markdown",
   "metadata": {},
   "source": [
    "Part 3 - Training the CNN"
   ]
  },
  {
   "cell_type": "markdown",
   "metadata": {},
   "source": [
    "Compiling the CNN"
   ]
  },
  {
   "cell_type": "code",
   "execution_count": 48,
   "metadata": {},
   "outputs": [],
   "source": [
    "cnn.compile(optimizer = 'adam', loss = 'binary_crossentropy', metrics = ['accuracy'])\n",
    "# optimizer = gradient descent, mini-batch gradient descent or stochastic gradient descent. adam = stochastic GD\n",
    "# loss = technique to calculate the error \n",
    "# metrics = A metric is a function that is used to judge the performance of your model"
   ]
  },
  {
   "cell_type": "markdown",
   "metadata": {},
   "source": [
    "Training the CNN on the Training set and evaluating it on the Test set"
   ]
  },
  {
   "cell_type": "code",
   "execution_count": 49,
   "metadata": {},
   "outputs": [
    {
     "name": "stdout",
     "output_type": "stream",
     "text": [
      "Epoch 1/18\n"
     ]
    },
    {
     "ename": "InvalidArgumentError",
     "evalue": "Graph execution error:\n\nDetected at node 'sequential_2/conv2d_7/Relu' defined at (most recent call last):\n    File \"/Users/thethelafaltein/opt/anaconda3/lib/python3.7/runpy.py\", line 193, in _run_module_as_main\n      \"__main__\", mod_spec)\n    File \"/Users/thethelafaltein/opt/anaconda3/lib/python3.7/runpy.py\", line 85, in _run_code\n      exec(code, run_globals)\n    File \"/Users/thethelafaltein/opt/anaconda3/lib/python3.7/site-packages/ipykernel_launcher.py\", line 16, in <module>\n      app.launch_new_instance()\n    File \"/Users/thethelafaltein/opt/anaconda3/lib/python3.7/site-packages/traitlets/config/application.py\", line 664, in launch_instance\n      app.start()\n    File \"/Users/thethelafaltein/opt/anaconda3/lib/python3.7/site-packages/ipykernel/kernelapp.py\", line 583, in start\n      self.io_loop.start()\n    File \"/Users/thethelafaltein/opt/anaconda3/lib/python3.7/site-packages/tornado/platform/asyncio.py\", line 153, in start\n      self.asyncio_loop.run_forever()\n    File \"/Users/thethelafaltein/opt/anaconda3/lib/python3.7/asyncio/base_events.py\", line 538, in run_forever\n      self._run_once()\n    File \"/Users/thethelafaltein/opt/anaconda3/lib/python3.7/asyncio/base_events.py\", line 1782, in _run_once\n      handle._run()\n    File \"/Users/thethelafaltein/opt/anaconda3/lib/python3.7/asyncio/events.py\", line 88, in _run\n      self._context.run(self._callback, *self._args)\n    File \"/Users/thethelafaltein/opt/anaconda3/lib/python3.7/site-packages/tornado/ioloop.py\", line 690, in <lambda>\n      lambda f: self._run_callback(functools.partial(callback, future))\n    File \"/Users/thethelafaltein/opt/anaconda3/lib/python3.7/site-packages/tornado/ioloop.py\", line 743, in _run_callback\n      ret = callback()\n    File \"/Users/thethelafaltein/opt/anaconda3/lib/python3.7/site-packages/tornado/gen.py\", line 787, in inner\n      self.run()\n    File \"/Users/thethelafaltein/opt/anaconda3/lib/python3.7/site-packages/tornado/gen.py\", line 748, in run\n      yielded = self.gen.send(value)\n    File \"/Users/thethelafaltein/opt/anaconda3/lib/python3.7/site-packages/ipykernel/kernelbase.py\", line 361, in process_one\n      yield gen.maybe_future(dispatch(*args))\n    File \"/Users/thethelafaltein/opt/anaconda3/lib/python3.7/site-packages/tornado/gen.py\", line 209, in wrapper\n      yielded = next(result)\n    File \"/Users/thethelafaltein/opt/anaconda3/lib/python3.7/site-packages/ipykernel/kernelbase.py\", line 268, in dispatch_shell\n      yield gen.maybe_future(handler(stream, idents, msg))\n    File \"/Users/thethelafaltein/opt/anaconda3/lib/python3.7/site-packages/tornado/gen.py\", line 209, in wrapper\n      yielded = next(result)\n    File \"/Users/thethelafaltein/opt/anaconda3/lib/python3.7/site-packages/ipykernel/kernelbase.py\", line 541, in execute_request\n      user_expressions, allow_stdin,\n    File \"/Users/thethelafaltein/opt/anaconda3/lib/python3.7/site-packages/tornado/gen.py\", line 209, in wrapper\n      yielded = next(result)\n    File \"/Users/thethelafaltein/opt/anaconda3/lib/python3.7/site-packages/ipykernel/ipkernel.py\", line 300, in do_execute\n      res = shell.run_cell(code, store_history=store_history, silent=silent)\n    File \"/Users/thethelafaltein/opt/anaconda3/lib/python3.7/site-packages/ipykernel/zmqshell.py\", line 536, in run_cell\n      return super(ZMQInteractiveShell, self).run_cell(*args, **kwargs)\n    File \"/Users/thethelafaltein/opt/anaconda3/lib/python3.7/site-packages/IPython/core/interactiveshell.py\", line 2858, in run_cell\n      raw_cell, store_history, silent, shell_futures)\n    File \"/Users/thethelafaltein/opt/anaconda3/lib/python3.7/site-packages/IPython/core/interactiveshell.py\", line 2886, in _run_cell\n      return runner(coro)\n    File \"/Users/thethelafaltein/opt/anaconda3/lib/python3.7/site-packages/IPython/core/async_helpers.py\", line 68, in _pseudo_sync_runner\n      coro.send(None)\n    File \"/Users/thethelafaltein/opt/anaconda3/lib/python3.7/site-packages/IPython/core/interactiveshell.py\", line 3063, in run_cell_async\n      interactivity=interactivity, compiler=compiler, result=result)\n    File \"/Users/thethelafaltein/opt/anaconda3/lib/python3.7/site-packages/IPython/core/interactiveshell.py\", line 3254, in run_ast_nodes\n      if (await self.run_code(code, result,  async_=asy)):\n    File \"/Users/thethelafaltein/opt/anaconda3/lib/python3.7/site-packages/IPython/core/interactiveshell.py\", line 3331, in run_code\n      exec(code_obj, self.user_global_ns, self.user_ns)\n    File \"<ipython-input-49-356694e91047>\", line 1, in <module>\n      cnn.fit(x = training_set, validation_data = test_set, epochs = 18)\n    File \"/Users/thethelafaltein/opt/anaconda3/lib/python3.7/site-packages/keras/utils/traceback_utils.py\", line 64, in error_handler\n      return fn(*args, **kwargs)\n    File \"/Users/thethelafaltein/opt/anaconda3/lib/python3.7/site-packages/keras/engine/training.py\", line 1384, in fit\n      tmp_logs = self.train_function(iterator)\n    File \"/Users/thethelafaltein/opt/anaconda3/lib/python3.7/site-packages/keras/engine/training.py\", line 1021, in train_function\n      return step_function(self, iterator)\n    File \"/Users/thethelafaltein/opt/anaconda3/lib/python3.7/site-packages/keras/engine/training.py\", line 1010, in step_function\n      outputs = model.distribute_strategy.run(run_step, args=(data,))\n    File \"/Users/thethelafaltein/opt/anaconda3/lib/python3.7/site-packages/keras/engine/training.py\", line 1000, in run_step\n      outputs = model.train_step(data)\n    File \"/Users/thethelafaltein/opt/anaconda3/lib/python3.7/site-packages/keras/engine/training.py\", line 859, in train_step\n      y_pred = self(x, training=True)\n    File \"/Users/thethelafaltein/opt/anaconda3/lib/python3.7/site-packages/keras/utils/traceback_utils.py\", line 64, in error_handler\n      return fn(*args, **kwargs)\n    File \"/Users/thethelafaltein/opt/anaconda3/lib/python3.7/site-packages/keras/engine/base_layer.py\", line 1096, in __call__\n      outputs = call_fn(inputs, *args, **kwargs)\n    File \"/Users/thethelafaltein/opt/anaconda3/lib/python3.7/site-packages/keras/utils/traceback_utils.py\", line 92, in error_handler\n      return fn(*args, **kwargs)\n    File \"/Users/thethelafaltein/opt/anaconda3/lib/python3.7/site-packages/keras/engine/sequential.py\", line 374, in call\n      return super(Sequential, self).call(inputs, training=training, mask=mask)\n    File \"/Users/thethelafaltein/opt/anaconda3/lib/python3.7/site-packages/keras/engine/functional.py\", line 452, in call\n      inputs, training=training, mask=mask)\n    File \"/Users/thethelafaltein/opt/anaconda3/lib/python3.7/site-packages/keras/engine/functional.py\", line 589, in _run_internal_graph\n      outputs = node.layer(*args, **kwargs)\n    File \"/Users/thethelafaltein/opt/anaconda3/lib/python3.7/site-packages/keras/utils/traceback_utils.py\", line 64, in error_handler\n      return fn(*args, **kwargs)\n    File \"/Users/thethelafaltein/opt/anaconda3/lib/python3.7/site-packages/keras/engine/base_layer.py\", line 1096, in __call__\n      outputs = call_fn(inputs, *args, **kwargs)\n    File \"/Users/thethelafaltein/opt/anaconda3/lib/python3.7/site-packages/keras/utils/traceback_utils.py\", line 92, in error_handler\n      return fn(*args, **kwargs)\n    File \"/Users/thethelafaltein/opt/anaconda3/lib/python3.7/site-packages/keras/layers/convolutional.py\", line 275, in call\n      return self.activation(outputs)\n    File \"/Users/thethelafaltein/opt/anaconda3/lib/python3.7/site-packages/keras/activations.py\", line 311, in relu\n      return backend.relu(x, alpha=alpha, max_value=max_value, threshold=threshold)\n    File \"/Users/thethelafaltein/opt/anaconda3/lib/python3.7/site-packages/keras/backend.py\", line 4956, in relu\n      x = tf.nn.relu(x)\nNode: 'sequential_2/conv2d_7/Relu'\ninput depth must be evenly divisible by filter depth: 3 vs 2\n\t [[{{node sequential_2/conv2d_7/Relu}}]] [Op:__inference_train_function_4790]",
     "output_type": "error",
     "traceback": [
      "\u001b[0;31m---------------------------------------------------------------------------\u001b[0m",
      "\u001b[0;31mInvalidArgumentError\u001b[0m                      Traceback (most recent call last)",
      "\u001b[0;32m<ipython-input-49-356694e91047>\u001b[0m in \u001b[0;36m<module>\u001b[0;34m\u001b[0m\n\u001b[0;32m----> 1\u001b[0;31m \u001b[0mcnn\u001b[0m\u001b[0;34m.\u001b[0m\u001b[0mfit\u001b[0m\u001b[0;34m(\u001b[0m\u001b[0mx\u001b[0m \u001b[0;34m=\u001b[0m \u001b[0mtraining_set\u001b[0m\u001b[0;34m,\u001b[0m \u001b[0mvalidation_data\u001b[0m \u001b[0;34m=\u001b[0m \u001b[0mtest_set\u001b[0m\u001b[0;34m,\u001b[0m \u001b[0mepochs\u001b[0m \u001b[0;34m=\u001b[0m \u001b[0;36m18\u001b[0m\u001b[0;34m)\u001b[0m\u001b[0;34m\u001b[0m\u001b[0;34m\u001b[0m\u001b[0m\n\u001b[0m",
      "\u001b[0;32m~/opt/anaconda3/lib/python3.7/site-packages/keras/utils/traceback_utils.py\u001b[0m in \u001b[0;36merror_handler\u001b[0;34m(*args, **kwargs)\u001b[0m\n\u001b[1;32m     65\u001b[0m     \u001b[0;32mexcept\u001b[0m \u001b[0mException\u001b[0m \u001b[0;32mas\u001b[0m \u001b[0me\u001b[0m\u001b[0;34m:\u001b[0m  \u001b[0;31m# pylint: disable=broad-except\u001b[0m\u001b[0;34m\u001b[0m\u001b[0;34m\u001b[0m\u001b[0m\n\u001b[1;32m     66\u001b[0m       \u001b[0mfiltered_tb\u001b[0m \u001b[0;34m=\u001b[0m \u001b[0m_process_traceback_frames\u001b[0m\u001b[0;34m(\u001b[0m\u001b[0me\u001b[0m\u001b[0;34m.\u001b[0m\u001b[0m__traceback__\u001b[0m\u001b[0;34m)\u001b[0m\u001b[0;34m\u001b[0m\u001b[0;34m\u001b[0m\u001b[0m\n\u001b[0;32m---> 67\u001b[0;31m       \u001b[0;32mraise\u001b[0m \u001b[0me\u001b[0m\u001b[0;34m.\u001b[0m\u001b[0mwith_traceback\u001b[0m\u001b[0;34m(\u001b[0m\u001b[0mfiltered_tb\u001b[0m\u001b[0;34m)\u001b[0m \u001b[0;32mfrom\u001b[0m \u001b[0;32mNone\u001b[0m\u001b[0;34m\u001b[0m\u001b[0;34m\u001b[0m\u001b[0m\n\u001b[0m\u001b[1;32m     68\u001b[0m     \u001b[0;32mfinally\u001b[0m\u001b[0;34m:\u001b[0m\u001b[0;34m\u001b[0m\u001b[0;34m\u001b[0m\u001b[0m\n\u001b[1;32m     69\u001b[0m       \u001b[0;32mdel\u001b[0m \u001b[0mfiltered_tb\u001b[0m\u001b[0;34m\u001b[0m\u001b[0;34m\u001b[0m\u001b[0m\n",
      "\u001b[0;32m~/opt/anaconda3/lib/python3.7/site-packages/tensorflow/python/eager/execute.py\u001b[0m in \u001b[0;36mquick_execute\u001b[0;34m(op_name, num_outputs, inputs, attrs, ctx, name)\u001b[0m\n\u001b[1;32m     53\u001b[0m     \u001b[0mctx\u001b[0m\u001b[0;34m.\u001b[0m\u001b[0mensure_initialized\u001b[0m\u001b[0;34m(\u001b[0m\u001b[0;34m)\u001b[0m\u001b[0;34m\u001b[0m\u001b[0;34m\u001b[0m\u001b[0m\n\u001b[1;32m     54\u001b[0m     tensors = pywrap_tfe.TFE_Py_Execute(ctx._handle, device_name, op_name,\n\u001b[0;32m---> 55\u001b[0;31m                                         inputs, attrs, num_outputs)\n\u001b[0m\u001b[1;32m     56\u001b[0m   \u001b[0;32mexcept\u001b[0m \u001b[0mcore\u001b[0m\u001b[0;34m.\u001b[0m\u001b[0m_NotOkStatusException\u001b[0m \u001b[0;32mas\u001b[0m \u001b[0me\u001b[0m\u001b[0;34m:\u001b[0m\u001b[0;34m\u001b[0m\u001b[0;34m\u001b[0m\u001b[0m\n\u001b[1;32m     57\u001b[0m     \u001b[0;32mif\u001b[0m \u001b[0mname\u001b[0m \u001b[0;32mis\u001b[0m \u001b[0;32mnot\u001b[0m \u001b[0;32mNone\u001b[0m\u001b[0;34m:\u001b[0m\u001b[0;34m\u001b[0m\u001b[0;34m\u001b[0m\u001b[0m\n",
      "\u001b[0;31mInvalidArgumentError\u001b[0m: Graph execution error:\n\nDetected at node 'sequential_2/conv2d_7/Relu' defined at (most recent call last):\n    File \"/Users/thethelafaltein/opt/anaconda3/lib/python3.7/runpy.py\", line 193, in _run_module_as_main\n      \"__main__\", mod_spec)\n    File \"/Users/thethelafaltein/opt/anaconda3/lib/python3.7/runpy.py\", line 85, in _run_code\n      exec(code, run_globals)\n    File \"/Users/thethelafaltein/opt/anaconda3/lib/python3.7/site-packages/ipykernel_launcher.py\", line 16, in <module>\n      app.launch_new_instance()\n    File \"/Users/thethelafaltein/opt/anaconda3/lib/python3.7/site-packages/traitlets/config/application.py\", line 664, in launch_instance\n      app.start()\n    File \"/Users/thethelafaltein/opt/anaconda3/lib/python3.7/site-packages/ipykernel/kernelapp.py\", line 583, in start\n      self.io_loop.start()\n    File \"/Users/thethelafaltein/opt/anaconda3/lib/python3.7/site-packages/tornado/platform/asyncio.py\", line 153, in start\n      self.asyncio_loop.run_forever()\n    File \"/Users/thethelafaltein/opt/anaconda3/lib/python3.7/asyncio/base_events.py\", line 538, in run_forever\n      self._run_once()\n    File \"/Users/thethelafaltein/opt/anaconda3/lib/python3.7/asyncio/base_events.py\", line 1782, in _run_once\n      handle._run()\n    File \"/Users/thethelafaltein/opt/anaconda3/lib/python3.7/asyncio/events.py\", line 88, in _run\n      self._context.run(self._callback, *self._args)\n    File \"/Users/thethelafaltein/opt/anaconda3/lib/python3.7/site-packages/tornado/ioloop.py\", line 690, in <lambda>\n      lambda f: self._run_callback(functools.partial(callback, future))\n    File \"/Users/thethelafaltein/opt/anaconda3/lib/python3.7/site-packages/tornado/ioloop.py\", line 743, in _run_callback\n      ret = callback()\n    File \"/Users/thethelafaltein/opt/anaconda3/lib/python3.7/site-packages/tornado/gen.py\", line 787, in inner\n      self.run()\n    File \"/Users/thethelafaltein/opt/anaconda3/lib/python3.7/site-packages/tornado/gen.py\", line 748, in run\n      yielded = self.gen.send(value)\n    File \"/Users/thethelafaltein/opt/anaconda3/lib/python3.7/site-packages/ipykernel/kernelbase.py\", line 361, in process_one\n      yield gen.maybe_future(dispatch(*args))\n    File \"/Users/thethelafaltein/opt/anaconda3/lib/python3.7/site-packages/tornado/gen.py\", line 209, in wrapper\n      yielded = next(result)\n    File \"/Users/thethelafaltein/opt/anaconda3/lib/python3.7/site-packages/ipykernel/kernelbase.py\", line 268, in dispatch_shell\n      yield gen.maybe_future(handler(stream, idents, msg))\n    File \"/Users/thethelafaltein/opt/anaconda3/lib/python3.7/site-packages/tornado/gen.py\", line 209, in wrapper\n      yielded = next(result)\n    File \"/Users/thethelafaltein/opt/anaconda3/lib/python3.7/site-packages/ipykernel/kernelbase.py\", line 541, in execute_request\n      user_expressions, allow_stdin,\n    File \"/Users/thethelafaltein/opt/anaconda3/lib/python3.7/site-packages/tornado/gen.py\", line 209, in wrapper\n      yielded = next(result)\n    File \"/Users/thethelafaltein/opt/anaconda3/lib/python3.7/site-packages/ipykernel/ipkernel.py\", line 300, in do_execute\n      res = shell.run_cell(code, store_history=store_history, silent=silent)\n    File \"/Users/thethelafaltein/opt/anaconda3/lib/python3.7/site-packages/ipykernel/zmqshell.py\", line 536, in run_cell\n      return super(ZMQInteractiveShell, self).run_cell(*args, **kwargs)\n    File \"/Users/thethelafaltein/opt/anaconda3/lib/python3.7/site-packages/IPython/core/interactiveshell.py\", line 2858, in run_cell\n      raw_cell, store_history, silent, shell_futures)\n    File \"/Users/thethelafaltein/opt/anaconda3/lib/python3.7/site-packages/IPython/core/interactiveshell.py\", line 2886, in _run_cell\n      return runner(coro)\n    File \"/Users/thethelafaltein/opt/anaconda3/lib/python3.7/site-packages/IPython/core/async_helpers.py\", line 68, in _pseudo_sync_runner\n      coro.send(None)\n    File \"/Users/thethelafaltein/opt/anaconda3/lib/python3.7/site-packages/IPython/core/interactiveshell.py\", line 3063, in run_cell_async\n      interactivity=interactivity, compiler=compiler, result=result)\n    File \"/Users/thethelafaltein/opt/anaconda3/lib/python3.7/site-packages/IPython/core/interactiveshell.py\", line 3254, in run_ast_nodes\n      if (await self.run_code(code, result,  async_=asy)):\n    File \"/Users/thethelafaltein/opt/anaconda3/lib/python3.7/site-packages/IPython/core/interactiveshell.py\", line 3331, in run_code\n      exec(code_obj, self.user_global_ns, self.user_ns)\n    File \"<ipython-input-49-356694e91047>\", line 1, in <module>\n      cnn.fit(x = training_set, validation_data = test_set, epochs = 18)\n    File \"/Users/thethelafaltein/opt/anaconda3/lib/python3.7/site-packages/keras/utils/traceback_utils.py\", line 64, in error_handler\n      return fn(*args, **kwargs)\n    File \"/Users/thethelafaltein/opt/anaconda3/lib/python3.7/site-packages/keras/engine/training.py\", line 1384, in fit\n      tmp_logs = self.train_function(iterator)\n    File \"/Users/thethelafaltein/opt/anaconda3/lib/python3.7/site-packages/keras/engine/training.py\", line 1021, in train_function\n      return step_function(self, iterator)\n    File \"/Users/thethelafaltein/opt/anaconda3/lib/python3.7/site-packages/keras/engine/training.py\", line 1010, in step_function\n      outputs = model.distribute_strategy.run(run_step, args=(data,))\n    File \"/Users/thethelafaltein/opt/anaconda3/lib/python3.7/site-packages/keras/engine/training.py\", line 1000, in run_step\n      outputs = model.train_step(data)\n    File \"/Users/thethelafaltein/opt/anaconda3/lib/python3.7/site-packages/keras/engine/training.py\", line 859, in train_step\n      y_pred = self(x, training=True)\n    File \"/Users/thethelafaltein/opt/anaconda3/lib/python3.7/site-packages/keras/utils/traceback_utils.py\", line 64, in error_handler\n      return fn(*args, **kwargs)\n    File \"/Users/thethelafaltein/opt/anaconda3/lib/python3.7/site-packages/keras/engine/base_layer.py\", line 1096, in __call__\n      outputs = call_fn(inputs, *args, **kwargs)\n    File \"/Users/thethelafaltein/opt/anaconda3/lib/python3.7/site-packages/keras/utils/traceback_utils.py\", line 92, in error_handler\n      return fn(*args, **kwargs)\n    File \"/Users/thethelafaltein/opt/anaconda3/lib/python3.7/site-packages/keras/engine/sequential.py\", line 374, in call\n      return super(Sequential, self).call(inputs, training=training, mask=mask)\n    File \"/Users/thethelafaltein/opt/anaconda3/lib/python3.7/site-packages/keras/engine/functional.py\", line 452, in call\n      inputs, training=training, mask=mask)\n    File \"/Users/thethelafaltein/opt/anaconda3/lib/python3.7/site-packages/keras/engine/functional.py\", line 589, in _run_internal_graph\n      outputs = node.layer(*args, **kwargs)\n    File \"/Users/thethelafaltein/opt/anaconda3/lib/python3.7/site-packages/keras/utils/traceback_utils.py\", line 64, in error_handler\n      return fn(*args, **kwargs)\n    File \"/Users/thethelafaltein/opt/anaconda3/lib/python3.7/site-packages/keras/engine/base_layer.py\", line 1096, in __call__\n      outputs = call_fn(inputs, *args, **kwargs)\n    File \"/Users/thethelafaltein/opt/anaconda3/lib/python3.7/site-packages/keras/utils/traceback_utils.py\", line 92, in error_handler\n      return fn(*args, **kwargs)\n    File \"/Users/thethelafaltein/opt/anaconda3/lib/python3.7/site-packages/keras/layers/convolutional.py\", line 275, in call\n      return self.activation(outputs)\n    File \"/Users/thethelafaltein/opt/anaconda3/lib/python3.7/site-packages/keras/activations.py\", line 311, in relu\n      return backend.relu(x, alpha=alpha, max_value=max_value, threshold=threshold)\n    File \"/Users/thethelafaltein/opt/anaconda3/lib/python3.7/site-packages/keras/backend.py\", line 4956, in relu\n      x = tf.nn.relu(x)\nNode: 'sequential_2/conv2d_7/Relu'\ninput depth must be evenly divisible by filter depth: 3 vs 2\n\t [[{{node sequential_2/conv2d_7/Relu}}]] [Op:__inference_train_function_4790]"
     ]
    }
   ],
   "source": [
    "cnn.fit(x = training_set, validation_data = test_set, epochs = 18)\n"
   ]
  },
  {
   "cell_type": "markdown",
   "metadata": {},
   "source": [
    "Part 4 - Making a single prediction"
   ]
  },
  {
   "cell_type": "code",
   "execution_count": null,
   "metadata": {},
   "outputs": [],
   "source": [
    "# dataset/prediction_values/yes dataset/prediction_values/yes/Y116.JPG\n",
    "import numpy as np\n",
    "from keras.preprocessing import image\n",
    "test_image = image.load_img('dataset/prediction_values/yes/Y116.JPG', target_size = (64, 64))\n",
    "test_image = image.img_to_array(test_image)\n",
    "test_image = np.expand_dims(test_image, axis = 0)\n",
    "result = cnn.predict(test_image/255.0)\n",
    "training_set.class_indices\n",
    "if result[0][0] > 0.5:\n",
    "  prediction = 'yes'\n",
    "else:\n",
    "  prediction = 'no'"
   ]
  }
 ],
 "metadata": {
  "interpreter": {
   "hash": "ce214becca8225ca0caca848c3d2de934d9dffe4f8a6a87e1f234a01c583b38b"
  },
  "kernelspec": {
   "display_name": "Python 3.6 (tensorflow)",
   "language": "python",
   "name": "python3"
  },
  "language_info": {
   "codemirror_mode": {
    "name": "ipython",
    "version": 3
   },
   "file_extension": ".py",
   "mimetype": "text/x-python",
   "name": "python",
   "nbconvert_exporter": "python",
   "pygments_lexer": "ipython3",
   "version": "3.7.6"
  }
 },
 "nbformat": 4,
 "nbformat_minor": 4
}
